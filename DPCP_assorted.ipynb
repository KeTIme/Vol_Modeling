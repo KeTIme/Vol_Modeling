{
 "cells": [
  {
   "cell_type": "code",
   "execution_count": 1,
   "metadata": {},
   "outputs": [],
   "source": [
    "import pandas as pd\n",
    "import numpy as np\n",
    "from datetime import datetime\n",
    "import matplotlib.pyplot as plt\n",
    "\n",
    "import pickle\n",
    "\n",
    "from sklearn.linear_model import LinearRegression\n",
    "from sklearn.metrics import mean_squared_error\n",
    "from statsmodels.tsa.statespace.varmax import VARMAX\n",
    "from statsmodels.tsa.vector_ar.var_model import VAR\n",
    "from statsmodels.tsa.arima_model import ARMA\n",
    "from statsmodels.tsa.ar_model import AR\n",
    "from statsmodels.tsa.arima_model import ARIMA"
   ]
  },
  {
   "cell_type": "markdown",
   "metadata": {},
   "source": [
    "# Introduction\n",
    "\n",
    "## Theory\n",
    "The following part is based on the put-call parity:\n",
    "\\begin{equation}\n",
    "C_t - P_t = S_t - K * B(t,T)\n",
    "\\end{equation}\n",
    "\n",
    "We can reformulate the put-call parity as the following:\n",
    "\\begin{equation}\n",
    "IV_t^C = IV_t^P\n",
    "\\end{equation} \n",
    "\n",
    "We define the deviation from put_call parity (DPCP) as:\n",
    "\\begin{equation}\n",
    "DPCP_t = IV_t^P - IV_t^C\n",
    "\\end{equation}\n",
    "\n",
    "We can expect this has a mean-reversion pattern, and can be used to predict the change in implied volatility.\n",
    "\n",
    "## Modeling IVS using DPCP\n",
    "\n",
    "We first model the IV of contract j (both call and put) at time t as a function of moneyness and maturity:\n",
    "\\begin{equation}\n",
    "IV_{j,t} = f(M_{j,t}, \\tau_{j,t}|\\beta_{t}) + \\epsilon_{j,t}\n",
    "\\end{equation}\n",
    "\n",
    "We then have the DPCP of the ATM options:\n",
    "\\begin{equation}\n",
    "DPCP_t = IV_{j,t}^P - IV_{j,t}^C = \\epsilon_{j,t}^P - \\epsilon_{j,t}^C\n",
    "\\end{equation}\n",
    "\n",
    "We expect an equilibrium-correction relationship between $\\epsilon_{j,t}^P$ and $\\epsilon_{j,t}^C$, which use DPCP as mean drift:\n",
    "\n",
    "\\begin{equation}\n",
    "\\Delta\\epsilon_{j,t}^P = q_1 * DPCP_{j, t-1} + \\eta_{j,t}^P \\\\\n",
    "\\Delta\\epsilon_{j,t}^C = q_2 * DPCP_{j, t-1} + \\eta_{j,t}^C \\\\\n",
    "\\end{equation}\n",
    "\n",
    "The proposed equilibrium-correction model for IVS is thus:\n",
    "\\begin{equation}\n",
    "IV_{j,t}^P = f(M_{j,t}, \\tau_{j,t}|\\beta_{t}) + \\epsilon_{j,t-1}^P + q_1 * DPCP_{j, t-1} + \\eta_{j,t}^P \\\\\n",
    "IV_{j,t}^C = f(M_{j,t}, \\tau_{j,t}|\\beta_{t}) + \\epsilon_{j,t-1}^C + q_2 * DPCP_{j, t-1} + \\eta_{j,t}^C \\\\\n",
    "\\end{equation}\n",
    "\n",
    "## Forecasting the IVS\n",
    "\n",
    "By fitting IVS to moneyness and maturity, we can get $\\hat{\\beta}_t$, and construct 1-day ahead forecasts by:\n",
    "\\begin{equation}\n",
    "\\hat{\\beta}_{t+1} = \\gamma + \\sum_{k=0}^p\\phi_k * \\hat{\\beta}_{t-k} + u_t\n",
    "\\end{equation}\n",
    "\n",
    "This is where time-series models kick in.\n",
    "\n",
    "The forecast computation of equilibrium-correction model is:\n",
    "\\begin{equation}\n",
    "IV_{j,t+1}^P = f(M_{j,t+1}, \\tau_{j,t+1}|\\hat{\\beta}_{t+1}) + \\epsilon_{j,t}^P + q_1 * DPCP_{j, t} \\\\\n",
    "IV_{j,t+1}^C = f(M_{j,t+1}, \\tau_{j,t+1}|\\hat{\\beta}_{t+1}) + \\epsilon_{j,t}^C + q_2 * DPCP_{j, t} \\\\\n",
    "\\end{equation}\n",
    "\n",
    "# Data and Analysis\n",
    "## Preparing data with features we want\n",
    "\n",
    "- We first drop the entries that do not have IV values\n",
    "- Then scale the maturity by a factor of 1/360 and subtract by 0.5, so the transformed maturity has a range of [-0.5, 0.5].\n",
    "- We add a minus sign to the moneyness of put options, and scale the moneyness by a factor of 1/120.\n",
    "- We create a feature called delta_moneyness, which equals to $\\delta + 0.5$ for put options and $\\delta - 0.5$ for call options. This feature has a range of [-0.5, 0.5]. This corresponds to the \"moneyness feature\" in the original paper."
   ]
  },
  {
   "cell_type": "code",
   "execution_count": 2,
   "metadata": {},
   "outputs": [
    {
     "name": "stderr",
     "output_type": "stream",
     "text": [
      "/anaconda3/lib/python3.7/site-packages/pandas/core/indexing.py:543: SettingWithCopyWarning: \n",
      "A value is trying to be set on a copy of a slice from a DataFrame.\n",
      "Try using .loc[row_indexer,col_indexer] = value instead\n",
      "\n",
      "See the caveats in the documentation: http://pandas.pydata.org/pandas-docs/stable/indexing.html#indexing-view-versus-copy\n",
      "  self.obj[item] = s\n",
      "/anaconda3/lib/python3.7/site-packages/pandas/core/indexing.py:362: SettingWithCopyWarning: \n",
      "A value is trying to be set on a copy of a slice from a DataFrame.\n",
      "Try using .loc[row_indexer,col_indexer] = value instead\n",
      "\n",
      "See the caveats in the documentation: http://pandas.pydata.org/pandas-docs/stable/indexing.html#indexing-view-versus-copy\n",
      "  self.obj[key] = _infer_fill_value(value)\n"
     ]
    }
   ],
   "source": [
    "raw = pd.read_csv(\"merged_options_data.csv\", parse_dates = [2], index_col = 0)\n",
    "\n",
    "clean = raw.loc[raw.iv!=0, ]\n",
    "clean.reset_index(drop = True, inplace = True)\n",
    "clean.loc[:, 'period'] /= 360\n",
    "clean.loc[:, 'period'] -= 0.5\n",
    "clean.loc[:, 'moneyness']/=120\n",
    "clean.loc[:, 'delta_moneyness'] = clean.loc[:, 'delta']\n",
    "clean.loc[clean.option_type == 'P', 'moneyness'] *= -1\n",
    "clean.loc[clean.option_type == 'P', 'delta_moneyness'] += 0.5\n",
    "clean.loc[clean.option_type == 'C', 'delta_moneyness'] -= 0.5"
   ]
  },
  {
   "cell_type": "markdown",
   "metadata": {},
   "source": [
    "After cleaning the data, we've got 77257 entries from 755 days.\n",
    "\n",
    "## Modeling IV on a given day as a function of moneyness and maturity\n",
    "### Linear regression on $M_{j,t}$ ($\\delta$ moneyness), $\\tau_{j,t}$ (maturity), $M_{j,t}^2, M_{j,t}\\tau_{j,t}, $"
   ]
  },
  {
   "cell_type": "code",
   "execution_count": 3,
   "metadata": {},
   "outputs": [],
   "source": [
    "def IV_lr(data):\n",
    "    X = data[['delta_moneyness','period']]\n",
    "    X['mm'] = X['delta_moneyness'] **2\n",
    "    X['mt'] = X['delta_moneyness'] * X['period']\n",
    "    Y = data['iv']\n",
    "    reg = LinearRegression().fit(X, Y)\n",
    "    return [reg.coef_, reg.intercept_, Y-reg.predict(X)]"
   ]
  },
  {
   "cell_type": "markdown",
   "metadata": {},
   "source": [
    "Fit a model for each day's data and getting residuals:"
   ]
  },
  {
   "cell_type": "code",
   "execution_count": 4,
   "metadata": {},
   "outputs": [
    {
     "name": "stderr",
     "output_type": "stream",
     "text": [
      "/anaconda3/lib/python3.7/site-packages/ipykernel_launcher.py:3: SettingWithCopyWarning: \n",
      "A value is trying to be set on a copy of a slice from a DataFrame.\n",
      "Try using .loc[row_indexer,col_indexer] = value instead\n",
      "\n",
      "See the caveats in the documentation: http://pandas.pydata.org/pandas-docs/stable/indexing.html#indexing-view-versus-copy\n",
      "  This is separate from the ipykernel package so we can avoid doing imports until\n",
      "/anaconda3/lib/python3.7/site-packages/ipykernel_launcher.py:4: SettingWithCopyWarning: \n",
      "A value is trying to be set on a copy of a slice from a DataFrame.\n",
      "Try using .loc[row_indexer,col_indexer] = value instead\n",
      "\n",
      "See the caveats in the documentation: http://pandas.pydata.org/pandas-docs/stable/indexing.html#indexing-view-versus-copy\n",
      "  after removing the cwd from sys.path.\n",
      "/anaconda3/lib/python3.7/site-packages/pandas/core/indexing.py:362: SettingWithCopyWarning: \n",
      "A value is trying to be set on a copy of a slice from a DataFrame.\n",
      "Try using .loc[row_indexer,col_indexer] = value instead\n",
      "\n",
      "See the caveats in the documentation: http://pandas.pydata.org/pandas-docs/stable/indexing.html#indexing-view-versus-copy\n",
      "  self.obj[key] = _infer_fill_value(value)\n",
      "/anaconda3/lib/python3.7/site-packages/pandas/core/indexing.py:543: SettingWithCopyWarning: \n",
      "A value is trying to be set on a copy of a slice from a DataFrame.\n",
      "Try using .loc[row_indexer,col_indexer] = value instead\n",
      "\n",
      "See the caveats in the documentation: http://pandas.pydata.org/pandas-docs/stable/indexing.html#indexing-view-versus-copy\n",
      "  self.obj[item] = s\n"
     ]
    }
   ],
   "source": [
    "date_cut = np.where((np.diff(clean.date).astype(int)!=0))[0]+1\n",
    "date_cut = np.append(date_cut, clean.shape[0])\n",
    "date_cut = np.append([0], date_cut)\n",
    "beta = np.zeros((len(date_cut)-1,5))\n",
    "res = np.zeros(clean.shape[0])\n",
    "for i in range(0, len(date_cut)-1):\n",
    "    [beta[i, :4], beta[i, 4:], res[date_cut[i]:date_cut[i+1]]] = IV_lr(clean.iloc[date_cut[i]:date_cut[i+1]])\n",
    "\n",
    "clean.loc[:,'res'] = res"
   ]
  },
  {
   "cell_type": "markdown",
   "metadata": {},
   "source": [
    "After modeling IV, we can then calculate DPCP. Since we only have both put and call options of the same strike and maturity for at-the-money options, we will only keep the at-the-money options and do further analysis and prediction."
   ]
  },
  {
   "cell_type": "code",
   "execution_count": 5,
   "metadata": {},
   "outputs": [],
   "source": [
    "atm = clean.loc[clean.moneyness == 0, :]\n",
    "atm.reset_index(drop = True, inplace = True)"
   ]
  },
  {
   "cell_type": "code",
   "execution_count": 6,
   "metadata": {},
   "outputs": [
    {
     "name": "stderr",
     "output_type": "stream",
     "text": [
      "/anaconda3/lib/python3.7/site-packages/pandas/core/frame.py:4025: SettingWithCopyWarning: \n",
      "A value is trying to be set on a copy of a slice from a DataFrame\n",
      "\n",
      "See the caveats in the documentation: http://pandas.pydata.org/pandas-docs/stable/indexing.html#indexing-view-versus-copy\n",
      "  return super(DataFrame, self).rename(**kwargs)\n",
      "/anaconda3/lib/python3.7/site-packages/pandas/core/frame.py:3940: SettingWithCopyWarning: \n",
      "A value is trying to be set on a copy of a slice from a DataFrame\n",
      "\n",
      "See the caveats in the documentation: http://pandas.pydata.org/pandas-docs/stable/indexing.html#indexing-view-versus-copy\n",
      "  errors=errors)\n"
     ]
    }
   ],
   "source": [
    "# checking data format\n",
    "for i in range(0, int(atm.shape[0]/2)):\n",
    "    if atm.period[i*2] != atm.period[i*2+1] or atm.date[i*2] != atm.date[i*2+1]:\n",
    "        print(i*2)\n",
    "        \n",
    "merge_atm = atm.loc[atm.option_type == 'P', :]\n",
    "merge_atm.rename(index=str, columns={\"delta\": \"delta_P\", \n",
    "                                     \"delta_moneyness\": \"delta_moneyness_P\",\n",
    "                                    \"res\": \"res_P\",\n",
    "                                    \"iv\": \"iv_P\"}, \n",
    "                 inplace = True)\n",
    "merge_atm.reset_index(drop = True, inplace = True)\n",
    "merge_atm.drop(columns=['moneyness', 'option_type'], inplace = True)\n",
    "tmp_C_df = atm.loc[atm.option_type == 'C', \n",
    "                                   ['delta', 'iv', 'delta_moneyness','res']]\n",
    "tmp_C_df.reset_index(drop = True, inplace = True)\n",
    "merge_atm = pd.concat([merge_atm, tmp_C_df], axis = 1)\n",
    "\n",
    "merge_atm.rename(index=str, columns={\"delta\": \"delta_C\", \n",
    "                                     \"delta_moneyness\": \"delta_moneyness_C\",\n",
    "                                    \"res\": \"res_C\",\n",
    "                                    \"iv\": \"iv_C\"},\n",
    "                 inplace = True)"
   ]
  },
  {
   "cell_type": "code",
   "execution_count": 7,
   "metadata": {},
   "outputs": [],
   "source": [
    "merge_atm.loc[:,'DPCP'] = merge_atm.iv_P.values - merge_atm.iv_C.values\n",
    "merge_atm.loc[:,'delta_res_P'] = merge_atm.res_P.values\n",
    "merge_atm.loc[0:1,'delta_res_P'] = 0\n",
    "merge_atm.loc[1:,'delta_res_P'] = np.diff(merge_atm.res_P.values)\n",
    "merge_atm.loc[:,'delta_res_C'] = merge_atm.res_C.values\n",
    "merge_atm.loc[0:1,'delta_res_C'] = 0\n",
    "merge_atm.loc[1:,'delta_res_C'] = np.diff(merge_atm.res_C.values)"
   ]
  },
  {
   "cell_type": "markdown",
   "metadata": {},
   "source": [
    "## Modeling change in $\\epsilon_{j,t}$ by DPCP\n",
    "\n",
    "Here our model is:\n",
    "\\begin{equation}\n",
    "\\Delta\\epsilon_{j,t}^P = q_1 * DPCP_{j, t-1} + \\eta_{j,t}^P \\\\\n",
    "\\Delta\\epsilon_{j,t}^C = q_2 * DPCP_{j, t-1} + \\eta_{j,t}^C \\\\\n",
    "\\end{equation}\n",
    "\n",
    "Since $q_1$ and $q_2$ here have no time subscript, we need to split the time series into training set and testing set."
   ]
  },
  {
   "cell_type": "code",
   "execution_count": 8,
   "metadata": {},
   "outputs": [],
   "source": [
    "training = merge_atm.iloc[:3001, :]\n",
    "testing = merge_atm.iloc[3001:4531, :]\n",
    "\n",
    "X = training.DPCP[1:].values.reshape(-1, 1)\n",
    "Y_P = training.res_P[:-1].values\n",
    "Y_C = training.res_C[:-1].values\n",
    "reg_P = LinearRegression().fit(X, Y_P)\n",
    "reg_C = LinearRegression().fit(X, Y_C)"
   ]
  },
  {
   "cell_type": "markdown",
   "metadata": {},
   "source": [
    "## Forecasting the IVS\n",
    "\n",
    "### Constructing 1-day ahead forecast of $\\hat{\\beta}$\n",
    "By fitting IVS to moneyness and maturity, we can get $\\hat{\\beta}_t$, and construct 1-day ahead forecasts by:\n",
    "\\begin{equation}\n",
    "t\n",
    "\\end{equation}\n",
    "\n",
    "Here we use VAR to model and forecast  $\\hat{\\beta}$.\n",
    "\n",
    "For lag order selection, we use AIC based lag order selection in VAR, and limit maximum lag to be 5."
   ]
  },
  {
   "cell_type": "code",
   "execution_count": 9,
   "metadata": {},
   "outputs": [],
   "source": [
    "train_ind = 500\n",
    "var_model = VAR(beta[:train_ind, :])\n",
    "var_model_fit = var_model.fit(maxlags = 5, ic = 'aic')"
   ]
  },
  {
   "cell_type": "code",
   "execution_count": 10,
   "metadata": {},
   "outputs": [
    {
     "data": {
      "text/plain": [
       "  Summary of Regression Results   \n",
       "==================================\n",
       "Model:                         VAR\n",
       "Method:                        OLS\n",
       "Date:           Fri, 03, May, 2019\n",
       "Time:                     11:24:07\n",
       "--------------------------------------------------------------------\n",
       "No. of Equations:         5.00000    BIC:                   -40.8639\n",
       "Nobs:                     495.000    HQIC:                  -41.5346\n",
       "Log likelihood:           7005.23    FPE:                5.93884e-19\n",
       "AIC:                     -41.9681    Det(Omega_mle):     4.59768e-19\n",
       "--------------------------------------------------------------------\n",
       "Results for equation y1\n",
       "========================================================================\n",
       "           coefficient       std. error           t-stat            prob\n",
       "------------------------------------------------------------------------\n",
       "const         0.003433         0.007757            0.443           0.658\n",
       "L1.y1         0.399965         0.061611            6.492           0.000\n",
       "L1.y2        -0.109152         0.050609           -2.157           0.031\n",
       "L1.y3        -0.003447         0.018400           -0.187           0.851\n",
       "L1.y4        -0.006916         0.015043           -0.460           0.646\n",
       "L1.y5         0.245810         0.115394            2.130           0.033\n",
       "L2.y1         0.300098         0.068713            4.367           0.000\n",
       "L2.y2         0.019962         0.055635            0.359           0.720\n",
       "L2.y3         0.006795         0.020046            0.339           0.735\n",
       "L2.y4         0.027685         0.015838            1.748           0.080\n",
       "L2.y5        -0.073608         0.140874           -0.523           0.601\n",
       "L3.y1         0.125025         0.070696            1.768           0.077\n",
       "L3.y2         0.043475         0.057635            0.754           0.451\n",
       "L3.y3        -0.011876         0.020610           -0.576           0.564\n",
       "L3.y4        -0.010591         0.015774           -0.671           0.502\n",
       "L3.y5         0.055106         0.142826            0.386           0.700\n",
       "L4.y1         0.092689         0.068225            1.359           0.174\n",
       "L4.y2         0.046393         0.057149            0.812           0.417\n",
       "L4.y3         0.015857         0.020046            0.791           0.429\n",
       "L4.y4         0.014122         0.015710            0.899           0.369\n",
       "L4.y5        -0.151181         0.139724           -1.082           0.279\n",
       "L5.y1        -0.003487         0.062192           -0.056           0.955\n",
       "L5.y2        -0.001643         0.050594           -0.032           0.974\n",
       "L5.y3         0.011049         0.018561            0.595           0.552\n",
       "L5.y4         0.000592         0.014677            0.040           0.968\n",
       "L5.y5         0.004861         0.113169            0.043           0.966\n",
       "========================================================================\n",
       "\n",
       "Results for equation y2\n",
       "========================================================================\n",
       "           coefficient       std. error           t-stat            prob\n",
       "------------------------------------------------------------------------\n",
       "const         0.006730         0.010291            0.654           0.513\n",
       "L1.y1        -0.207091         0.081740           -2.534           0.011\n",
       "L1.y2         0.444637         0.067144            6.622           0.000\n",
       "L1.y3         0.083347         0.024412            3.414           0.001\n",
       "L1.y4        -0.027669         0.019958           -1.386           0.166\n",
       "L1.y5        -0.114149         0.153095           -0.746           0.456\n",
       "L2.y1        -0.002981         0.091163           -0.033           0.974\n",
       "L2.y2        -0.029154         0.073813           -0.395           0.693\n",
       "L2.y3        -0.040110         0.026596           -1.508           0.132\n",
       "L2.y4        -0.035018         0.021013           -1.666           0.096\n",
       "L2.y5        -0.056108         0.186901           -0.300           0.764\n",
       "L3.y1        -0.036490         0.093794           -0.389           0.697\n",
       "L3.y2         0.075923         0.076466            0.993           0.321\n",
       "L3.y3         0.002110         0.027343            0.077           0.938\n",
       "L3.y4        -0.027043         0.020928           -1.292           0.196\n",
       "L3.y5        -0.075622         0.189490           -0.399           0.690\n",
       "L4.y1         0.069715         0.090515            0.770           0.441\n",
       "L4.y2         0.040243         0.075821            0.531           0.596\n",
       "L4.y3        -0.010397         0.026595           -0.391           0.696\n",
       "L4.y4         0.020118         0.020843            0.965           0.334\n",
       "L4.y5        -0.115980         0.185375           -0.626           0.532\n",
       "L5.y1         0.046496         0.082511            0.564           0.573\n",
       "L5.y2         0.186897         0.067125            2.784           0.005\n",
       "L5.y3         0.009451         0.024626            0.384           0.701\n",
       "L5.y4         0.070513         0.019472            3.621           0.000\n",
       "L5.y5         0.274445         0.150145            1.828           0.068\n",
       "========================================================================\n",
       "\n",
       "Results for equation y3\n",
       "========================================================================\n",
       "           coefficient       std. error           t-stat            prob\n",
       "------------------------------------------------------------------------\n",
       "const         0.028066         0.035378            0.793           0.428\n",
       "L1.y1         0.389320         0.281006            1.385           0.166\n",
       "L1.y2         0.170879         0.230825            0.740           0.459\n",
       "L1.y3         0.238997         0.083924            2.848           0.004\n",
       "L1.y4         0.128137         0.068610            1.868           0.062\n",
       "L1.y5        -0.479433         0.526310           -0.911           0.362\n",
       "L2.y1        -0.163559         0.313399           -0.522           0.602\n",
       "L2.y2         1.016856         0.253752            4.007           0.000\n",
       "L2.y3         0.412026         0.091432            4.506           0.000\n",
       "L2.y4         0.132330         0.072239            1.832           0.067\n",
       "L2.y5         0.975113         0.642525            1.518           0.129\n",
       "L3.y1         0.260116         0.322444            0.807           0.420\n",
       "L3.y2         0.085281         0.262874            0.324           0.746\n",
       "L3.y3         0.058820         0.094001            0.626           0.531\n",
       "L3.y4         0.053275         0.071946            0.740           0.459\n",
       "L3.y5         0.401307         0.651428            0.616           0.538\n",
       "L4.y1        -0.189268         0.311173           -0.608           0.543\n",
       "L4.y2         0.030023         0.260658            0.115           0.908\n",
       "L4.y3         0.103509         0.091428            1.132           0.258\n",
       "L4.y4        -0.052014         0.071654           -0.726           0.468\n",
       "L4.y5         1.020098         0.637281            1.601           0.109\n",
       "L5.y1         0.125810         0.283656            0.444           0.657\n",
       "L5.y2        -0.441589         0.230761           -1.914           0.056\n",
       "L5.y3        -0.039719         0.084658           -0.469           0.639\n",
       "L5.y4        -0.259118         0.066941           -3.871           0.000\n",
       "L5.y5        -1.563313         0.516165           -3.029           0.002\n",
       "========================================================================\n",
       "\n",
       "Results for equation y4\n",
       "========================================================================\n",
       "           coefficient       std. error           t-stat            prob\n",
       "------------------------------------------------------------------------\n",
       "const        -0.005438         0.031155           -0.175           0.861\n",
       "L1.y1         0.243520         0.247460            0.984           0.325\n",
       "L1.y2         0.037481         0.203270            0.184           0.854\n",
       "L1.y3        -0.059743         0.073905           -0.808           0.419\n",
       "L1.y4         0.160014         0.060419            2.648           0.008\n",
       "L1.y5        -0.586606         0.463479           -1.266           0.206\n",
       "L2.y1         0.123153         0.275985            0.446           0.655\n",
       "L2.y2        -0.764149         0.223459           -3.420           0.001\n",
       "L2.y3        -0.232490         0.080517           -2.887           0.004\n",
       "L2.y4        -0.024303         0.063615           -0.382           0.702\n",
       "L2.y5        -0.655786         0.565821           -1.159           0.246\n",
       "L3.y1        -0.263253         0.283951           -0.927           0.354\n",
       "L3.y2        -0.376217         0.231492           -1.625           0.104\n",
       "L3.y3         0.057405         0.082779            0.693           0.488\n",
       "L3.y4         0.108768         0.063357            1.717           0.086\n",
       "L3.y5        -0.404509         0.573661           -0.705           0.481\n",
       "L4.y1        -0.130225         0.274025           -0.475           0.635\n",
       "L4.y2         0.115355         0.229541            0.503           0.615\n",
       "L4.y3         0.044107         0.080514            0.548           0.584\n",
       "L4.y4         0.019033         0.063100            0.302           0.763\n",
       "L4.y5         0.372667         0.561203            0.664           0.507\n",
       "L5.y1        -0.017102         0.249794           -0.068           0.945\n",
       "L5.y2         0.799452         0.203213            3.934           0.000\n",
       "L5.y3         0.110154         0.074551            1.478           0.140\n",
       "L5.y4         0.350328         0.058950            5.943           0.000\n",
       "L5.y5         1.278062         0.454546            2.812           0.005\n",
       "========================================================================\n",
       "\n",
       "Results for equation y5\n",
       "========================================================================\n",
       "           coefficient       std. error           t-stat            prob\n",
       "------------------------------------------------------------------------\n",
       "const         0.002094         0.004253            0.492           0.622\n",
       "L1.y1        -0.057477         0.033784           -1.701           0.089\n",
       "L1.y2        -0.093084         0.027751           -3.354           0.001\n",
       "L1.y3         0.007099         0.010090            0.704           0.482\n",
       "L1.y4        -0.034673         0.008249           -4.203           0.000\n",
       "L1.y5         0.787358         0.063276           12.443           0.000\n",
       "L2.y1         0.028481         0.037678            0.756           0.450\n",
       "L2.y2        -0.014648         0.030507           -0.480           0.631\n",
       "L2.y3        -0.008234         0.010992           -0.749           0.454\n",
       "L2.y4        -0.008554         0.008685           -0.985           0.325\n",
       "L2.y5         0.092232         0.077248            1.194           0.232\n",
       "L3.y1         0.020351         0.038766            0.525           0.600\n",
       "L3.y2        -0.022095         0.031604           -0.699           0.484\n",
       "L3.y3        -0.008384         0.011301           -0.742           0.458\n",
       "L3.y4         0.005056         0.008650            0.585           0.559\n",
       "L3.y5        -0.060062         0.078318           -0.767           0.443\n",
       "L4.y1         0.010062         0.037411            0.269           0.788\n",
       "L4.y2         0.045038         0.031338            1.437           0.151\n",
       "L4.y3         0.010080         0.010992            0.917           0.359\n",
       "L4.y4         0.012419         0.008615            1.442           0.149\n",
       "L4.y5        -0.037847         0.076617           -0.494           0.621\n",
       "L5.y1        -0.009675         0.034103           -0.284           0.777\n",
       "L5.y2         0.028761         0.027743            1.037           0.300\n",
       "L5.y3         0.008871         0.010178            0.872           0.383\n",
       "L5.y4         0.027711         0.008048            3.443           0.001\n",
       "L5.y5         0.147513         0.062056            2.377           0.017\n",
       "========================================================================\n",
       "\n",
       "Correlation matrix of residuals\n",
       "            y1        y2        y3        y4        y5\n",
       "y1    1.000000 -0.319433  0.226033 -0.423811  0.371666\n",
       "y2   -0.319433  1.000000 -0.679901  0.369444  0.015877\n",
       "y3    0.226033 -0.679901  1.000000 -0.609091 -0.397284\n",
       "y4   -0.423811  0.369444 -0.609091  1.000000  0.248495\n",
       "y5    0.371666  0.015877 -0.397284  0.248495  1.000000\n",
       "\n"
      ]
     },
     "metadata": {},
     "output_type": "display_data"
    },
    {
     "data": {
      "image/png": "[encoded data removed]",
      "text/plain": [
       "<Figure size 720x720 with 25 Axes>"
      ]
     },
     "metadata": {
      "needs_background": "light"
     },
     "output_type": "display_data"
    }
   ],
   "source": [
    "display(var_model_fit.summary())\n",
    "var_model_fit.plot_acorr()\n",
    "\n",
    "lag = 5"
   ]
  },
  {
   "cell_type": "markdown",
   "metadata": {},
   "source": [
    "Next we forecast 1-day ahead $\\hat{\\beta}$ with each day's beta updated at the end of the day."
   ]
  },
  {
   "cell_type": "code",
   "execution_count": 11,
   "metadata": {},
   "outputs": [],
   "source": [
    "pred_beta = np.zeros(beta[train_ind:, ].shape)\n",
    "for i in range(0, pred_beta.shape[0]):\n",
    "    pred_beta[i, :] = var_model_fit.forecast(beta[train_ind-lag+i : train_ind+i], 1)"
   ]
  },
  {
   "cell_type": "markdown",
   "metadata": {},
   "source": [
    "### Forecast using equilibrium-correction model\n",
    "\n",
    "Next we construct forecast based on equilibrium-correction model:\n",
    "\\begin{equation}\n",
    "IV_{j,t+1}^P = f(M_{j,t+1}, \\tau_{j,t+1}|\\hat{\\beta}_{t+1}) + \\epsilon_{j,t}^P + q_1 * DPCP_{j, t} \\\\\n",
    "IV_{j,t+1}^C = f(M_{j,t+1}, \\tau_{j,t+1}|\\hat{\\beta}_{t+1}) + \\epsilon_{j,t}^C + q_2 * DPCP_{j, t} \\\\\n",
    "\\end{equation}\n",
    "\n",
    "Parameters come from our estimation above."
   ]
  },
  {
   "cell_type": "code",
   "execution_count": 12,
   "metadata": {},
   "outputs": [],
   "source": [
    "iv_C_pred = np.zeros(testing.shape[0])\n",
    "iv_P_pred = np.zeros(testing.shape[0])\n",
    "date_cnt = 0\n",
    "\n",
    "def lr_fit(coef, data):\n",
    "    X = np.array([[data.delta_moneyness_P, data.period, \n",
    "                    data.delta_moneyness_P**2, \n",
    "                    data.delta_moneyness_P * data.period, 1],\n",
    "             [data.delta_moneyness_C, data.period, \n",
    "                    data.delta_moneyness_C**2,\n",
    "                    data.delta_moneyness_C * data.period, 1]])\n",
    "    return [np.matmul(X, coef)[0], np.matmul(X, coef)[1]]\n",
    "\n",
    "# skipping the first day in testing set\n",
    "# date_cnt: keeping track of the number of days elapsed from the end of training set\n",
    "# date_cnt corresponds to the index of beta\n",
    "for i in range(6, testing.shape[0]):\n",
    "    if testing.date[i] != testing.date[i-1]:\n",
    "        date_cnt += 1\n",
    "    \n",
    "    [f_P, f_C] = lr_fit(pred_beta[date_cnt, :], testing.iloc[i,:])\n",
    "    iv_P_pred[i] = f_P + testing.delta_res_P.iloc[i-6] + \\\n",
    "                        reg_P.predict(testing.DPCP.iloc[i-6].reshape(-1,1))\n",
    "    iv_C_pred[i] = f_C + testing.delta_res_C.iloc[i-6] + \\\n",
    "                        reg_C.predict(testing.DPCP.iloc[i-6].reshape(-1,1))\n",
    "        "
   ]
  },
  {
   "cell_type": "markdown",
   "metadata": {},
   "source": [
    "### Forecasting outcome"
   ]
  },
  {
   "cell_type": "code",
   "execution_count": 14,
   "metadata": {},
   "outputs": [
    {
     "name": "stdout",
     "output_type": "stream",
     "text": [
      "MSE of out-of-sample IV for put options: 0.0005412103365944277\n",
      "MSE of out-of-sample IV for call options: 0.0007085071202696841\n"
     ]
    },
    {
     "data": {
      "text/plain": [
       "0.0006248587284320558"
      ]
     },
     "execution_count": 14,
     "metadata": {},
     "output_type": "execute_result"
    }
   ],
   "source": [
    "print(\"MSE of out-of-sample IV for put options:\",\n",
    "      mean_squared_error(testing.iv_P.iloc[6:].values, iv_P_pred[6:]))\n",
    "print(\"MSE of out-of-sample IV for call options:\",\n",
    "      mean_squared_error(testing.iv_C.iloc[6:].values, iv_C_pred[6:]))   \n",
    "\n",
    "np.mean([mean_squared_error(testing.iv_P.iloc[6:].values, iv_P_pred[6:]),\n",
    "       mean_squared_error(testing.iv_C.iloc[6:].values, iv_C_pred[6:])])"
   ]
  },
  {
   "cell_type": "markdown",
   "metadata": {},
   "source": [
    "### Plotting the results"
   ]
  },
  {
   "cell_type": "code",
   "execution_count": 15,
   "metadata": {},
   "outputs": [
    {
     "data": {
      "image/png": "[encoded data removed]",
      "text/plain": [
       "<Figure size 432x288 with 1 Axes>"
      ]
     },
     "metadata": {
      "needs_background": "light"
     },
     "output_type": "display_data"
    }
   ],
   "source": [
    "plt.plot(testing.loc[testing.period==0.5, 'iv_C'].iloc[1:], label = 'true data')\n",
    "plt.plot(iv_C_pred[testing.period==0.5][1:], label = 'DPCP prediction', alpha = 0.8)\n",
    "plt.legend()\n",
    "plt.title('DPCP 1-yr matur atm implied volatility')\n",
    "#plt.show()\n",
    "plt.savefig('DPCP.jpg')"
   ]
  },
  {
   "cell_type": "code",
   "execution_count": null,
   "metadata": {},
   "outputs": [],
   "source": []
  }
 ],
 "metadata": {
  "kernelspec": {
   "display_name": "Python 3",
   "language": "python",
   "name": "python3"
  },
  "language_info": {
   "codemirror_mode": {
    "name": "ipython",
    "version": 3
   },
   "file_extension": ".py",
   "mimetype": "text/x-python",
   "name": "python",
   "nbconvert_exporter": "python",
   "pygments_lexer": "ipython3",
   "version": "3.7.2"
  }
 },
 "nbformat": 4,
 "nbformat_minor": 2
}
